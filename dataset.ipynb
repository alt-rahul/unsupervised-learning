{
 "cells": [
  {
   "cell_type": "code",
   "execution_count": 2,
   "metadata": {},
   "outputs": [
    {
     "name": "stdout",
     "output_type": "stream",
     "text": [
      "Requirement already satisfied: pandas in e:\\anaconda\\envs\\py313\\lib\\site-packages (2.2.3)\n",
      "Requirement already satisfied: numpy>=1.26.0 in e:\\anaconda\\envs\\py313\\lib\\site-packages (from pandas) (2.2.0)\n",
      "Requirement already satisfied: python-dateutil>=2.8.2 in e:\\anaconda\\envs\\py313\\lib\\site-packages (from pandas) (2.9.0.post0)\n",
      "Requirement already satisfied: pytz>=2020.1 in e:\\anaconda\\envs\\py313\\lib\\site-packages (from pandas) (2024.2)\n",
      "Requirement already satisfied: tzdata>=2022.7 in e:\\anaconda\\envs\\py313\\lib\\site-packages (from pandas) (2024.2)\n",
      "Requirement already satisfied: six>=1.5 in e:\\anaconda\\envs\\py313\\lib\\site-packages (from python-dateutil>=2.8.2->pandas) (1.17.0)\n"
     ]
    }
   ],
   "source": [
    "!pip install pandas"
   ]
  },
  {
   "cell_type": "code",
   "execution_count": 3,
   "metadata": {},
   "outputs": [],
   "source": [
    "import numpy as np\n",
    "import pandas as pd"
   ]
  },
  {
   "cell_type": "code",
   "execution_count": 4,
   "metadata": {},
   "outputs": [],
   "source": [
    "star_collection = pd.read_csv('https://github.com/YBIFoundation/Dataset/raw/main/Stars.csv')"
   ]
  },
  {
   "cell_type": "code",
   "execution_count": 5,
   "metadata": {},
   "outputs": [
    {
     "name": "stdout",
     "output_type": "stream",
     "text": [
      "       Temperature (K)  Luminosity (L/Lo)  Radius (R/Ro)  \\\n",
      "count       240.000000         240.000000     240.000000   \n",
      "mean      10497.462500      107188.361635     237.157781   \n",
      "std        9552.425037      179432.244940     517.155763   \n",
      "min        1939.000000           0.000080       0.008400   \n",
      "25%        3344.250000           0.000865       0.102750   \n",
      "50%        5776.000000           0.070500       0.762500   \n",
      "75%       15055.500000      198050.000000      42.750000   \n",
      "max       40000.000000      849420.000000    1948.500000   \n",
      "\n",
      "       Absolute magnitude (Mv)   Star type  \n",
      "count               240.000000  240.000000  \n",
      "mean                  4.382396    2.500000  \n",
      "std                  10.532512    1.711394  \n",
      "min                 -11.920000    0.000000  \n",
      "25%                  -6.232500    1.000000  \n",
      "50%                   8.313000    2.500000  \n",
      "75%                  13.697500    4.000000  \n",
      "max                  20.060000    5.000000  \n"
     ]
    }
   ],
   "source": [
    "print(star_collection.describe())"
   ]
  },
  {
   "cell_type": "code",
   "execution_count": 6,
   "metadata": {},
   "outputs": [
    {
     "name": "stdout",
     "output_type": "stream",
     "text": [
      "   Temperature (K)  Luminosity (L/Lo)  Radius (R/Ro)  Absolute magnitude (Mv)  \\\n",
      "0             3068           0.002400         0.1700                    16.12   \n",
      "1             3042           0.000500         0.1542                    16.60   \n",
      "2             2600           0.000300         0.1020                    18.70   \n",
      "3             2800           0.000200         0.1600                    16.65   \n",
      "4             1939           0.000138         0.1030                    20.06   \n",
      "\n",
      "   Star type Star category Star color Spectral Class  \n",
      "0          0   Brown Dwarf        Red              M  \n",
      "1          0   Brown Dwarf        Red              M  \n",
      "2          0   Brown Dwarf        Red              M  \n",
      "3          0   Brown Dwarf        Red              M  \n",
      "4          0   Brown Dwarf        Red              M  \n"
     ]
    }
   ],
   "source": [
    "print(star_collection.head())"
   ]
  },
  {
   "cell_type": "code",
   "execution_count": 7,
   "metadata": {},
   "outputs": [
    {
     "data": {
      "text/plain": [
       "Index(['Temperature (K)', 'Luminosity (L/Lo)', 'Radius (R/Ro)',\n",
       "       'Absolute magnitude (Mv)', 'Star type', 'Star category', 'Star color',\n",
       "       'Spectral Class'],\n",
       "      dtype='object')"
      ]
     },
     "execution_count": 7,
     "metadata": {},
     "output_type": "execute_result"
    }
   ],
   "source": [
    "star_collection.columns"
   ]
  },
  {
   "cell_type": "code",
   "execution_count": 8,
   "metadata": {},
   "outputs": [
    {
     "data": {
      "text/plain": [
       "RangeIndex(start=0, stop=240, step=1)"
      ]
     },
     "execution_count": 8,
     "metadata": {},
     "output_type": "execute_result"
    }
   ],
   "source": [
    "star_collection.index"
   ]
  },
  {
   "cell_type": "code",
   "execution_count": 9,
   "metadata": {},
   "outputs": [
    {
     "name": "stdout",
     "output_type": "stream",
     "text": [
      "   Temperature (K)  Luminosity (L/Lo)\n",
      "0             3068           0.002400\n",
      "1             3042           0.000500\n",
      "2             2600           0.000300\n",
      "3             2800           0.000200\n",
      "4             1939           0.000138\n"
     ]
    }
   ],
   "source": [
    "temps_lum = star_collection[['Temperature (K)', 'Luminosity (L/Lo)']]\n",
    "print(temps_lum.head())"
   ]
  },
  {
   "cell_type": "code",
   "execution_count": 10,
   "metadata": {},
   "outputs": [
    {
     "name": "stdout",
     "output_type": "stream",
     "text": [
      "     Temperature (K)  Luminosity (L/Lo)  Radius (R/Ro)  \\\n",
      "30             39000           204000.0           10.6   \n",
      "40              3826           200000.0           19.0   \n",
      "41              3365           340000.0           23.0   \n",
      "42              3270           150000.0           88.0   \n",
      "43              3200           195000.0           17.0   \n",
      "..               ...                ...            ...   \n",
      "235            38940           374830.0         1356.0   \n",
      "236            30839           834042.0         1194.0   \n",
      "237             8829           537493.0         1423.0   \n",
      "238             9235           404940.0         1112.0   \n",
      "239            37882           294903.0         1783.0   \n",
      "\n",
      "     Absolute magnitude (Mv)  Star type  Star category Star color  \\\n",
      "30                     -4.70          3  Main Sequence       Blue   \n",
      "40                     -6.93          4     Supergiant        Red   \n",
      "41                     -6.20          4     Supergiant        Red   \n",
      "42                     -6.02          4     Supergiant        Red   \n",
      "43                     -7.22          4     Supergiant        Red   \n",
      "..                       ...        ...            ...        ...   \n",
      "235                    -9.93          5     Hypergiant       Blue   \n",
      "236                   -10.63          5     Hypergiant       Blue   \n",
      "237                   -10.73          5     Hypergiant      White   \n",
      "238                   -11.23          5     Hypergiant      White   \n",
      "239                    -7.80          5     Hypergiant       Blue   \n",
      "\n",
      "    Spectral Class  \n",
      "30               O  \n",
      "40               M  \n",
      "41               M  \n",
      "42               M  \n",
      "43               M  \n",
      "..             ...  \n",
      "235              O  \n",
      "236              O  \n",
      "237              A  \n",
      "238              A  \n",
      "239              O  \n",
      "\n",
      "[82 rows x 8 columns]\n"
     ]
    }
   ],
   "source": [
    "temps = star_collection[(star_collection['Temperature (K)'] > 1000) & (star_collection['Radius (R/Ro)'] > 10)]\n",
    "print(temps)"
   ]
  },
  {
   "cell_type": "code",
   "execution_count": 11,
   "metadata": {},
   "outputs": [
    {
     "name": "stdout",
     "output_type": "stream",
     "text": [
      "     Temperature (K)  Luminosity (L/Lo)  Radius (R/Ro)  \\\n",
      "44              3008           280000.0           25.0   \n",
      "43              3200           195000.0           17.0   \n",
      "42              3270           150000.0           88.0   \n",
      "41              3365           340000.0           23.0   \n",
      "113             3399           117000.0         1486.0   \n",
      "..               ...                ...            ...   \n",
      "239            37882           294903.0         1783.0   \n",
      "231            38234           272830.0         1356.0   \n",
      "235            38940           374830.0         1356.0   \n",
      "30             39000           204000.0           10.6   \n",
      "101            40000           813000.0           14.0   \n",
      "\n",
      "     Absolute magnitude (Mv)  Star type  Star category Star color  \\\n",
      "44                     -6.00          4     Supergiant        Red   \n",
      "43                     -7.22          4     Supergiant        Red   \n",
      "42                     -6.02          4     Supergiant        Red   \n",
      "41                     -6.20          4     Supergiant        Red   \n",
      "113                   -10.92          5     Hypergiant        Red   \n",
      "..                       ...        ...            ...        ...   \n",
      "239                    -7.80          5     Hypergiant       Blue   \n",
      "231                    -9.29          5     Hypergiant       Blue   \n",
      "235                    -9.93          5     Hypergiant       Blue   \n",
      "30                     -4.70          3  Main Sequence       Blue   \n",
      "101                    -6.23          4     Supergiant       Blue   \n",
      "\n",
      "    Spectral Class  \n",
      "44               M  \n",
      "43               M  \n",
      "42               M  \n",
      "41               M  \n",
      "113              M  \n",
      "..             ...  \n",
      "239              O  \n",
      "231              O  \n",
      "235              O  \n",
      "30               O  \n",
      "101              O  \n",
      "\n",
      "[82 rows x 8 columns]\n"
     ]
    }
   ],
   "source": [
    "print(temps.sort_values(['Temperature (K)', 'Radius (R/Ro)'], ascending=[True, False]))"
   ]
  },
  {
   "cell_type": "code",
   "execution_count": 12,
   "metadata": {},
   "outputs": [
    {
     "name": "stdout",
     "output_type": "stream",
     "text": [
      "40000\n"
     ]
    }
   ],
   "source": [
    "print(max(temps['Temperature (K)']))"
   ]
  },
  {
   "cell_type": "code",
   "execution_count": 13,
   "metadata": {},
   "outputs": [
    {
     "name": "stdout",
     "output_type": "stream",
     "text": [
      "<pandas.core.groupby.generic.SeriesGroupBy object at 0x0000022B2C1EBCB0>\n"
     ]
    }
   ],
   "source": [
    "custom = star_collection.groupby(\"Star type\")['Star color']\n",
    "print(custom)"
   ]
  },
  {
   "cell_type": "code",
   "execution_count": 14,
   "metadata": {},
   "outputs": [
    {
     "data": {
      "text/plain": [
       "0              Red\n",
       "1              Red\n",
       "2              Red\n",
       "3              Red\n",
       "4              Red\n",
       "10             Red\n",
       "11             Red\n",
       "12             Red\n",
       "13             Red\n",
       "14             Red\n",
       "20      Blue White\n",
       "21           White\n",
       "22           White\n",
       "23           White\n",
       "24      Blue White\n",
       "30            Blue\n",
       "31      Blue-white\n",
       "32      Blue-white\n",
       "33         Whitish\n",
       "34    yellow-white\n",
       "40             Red\n",
       "41             Red\n",
       "42             Red\n",
       "43             Red\n",
       "44             Red\n",
       "50             Red\n",
       "51             Red\n",
       "52             Red\n",
       "53          Orange\n",
       "54             Red\n",
       "Name: Star color, dtype: object"
      ]
     },
     "execution_count": 14,
     "metadata": {},
     "output_type": "execute_result"
    }
   ],
   "source": [
    "custom.head()"
   ]
  },
  {
   "cell_type": "code",
   "execution_count": 15,
   "metadata": {},
   "outputs": [
    {
     "data": {
      "text/plain": [
       "Temperature (K)\n",
       "3600     3\n",
       "2600     2\n",
       "2650     2\n",
       "3625     2\n",
       "3450     2\n",
       "        ..\n",
       "38940    1\n",
       "30839    1\n",
       "8829     1\n",
       "9235     1\n",
       "37882    1\n",
       "Name: count, Length: 228, dtype: int64"
      ]
     },
     "execution_count": 15,
     "metadata": {},
     "output_type": "execute_result"
    }
   ],
   "source": [
    "star_collection['Temperature (K)'].value_counts()"
   ]
  },
  {
   "cell_type": "code",
   "execution_count": 16,
   "metadata": {},
   "outputs": [
    {
     "data": {
      "text/html": [
       "<div>\n",
       "<style scoped>\n",
       "    .dataframe tbody tr th:only-of-type {\n",
       "        vertical-align: middle;\n",
       "    }\n",
       "\n",
       "    .dataframe tbody tr th {\n",
       "        vertical-align: top;\n",
       "    }\n",
       "\n",
       "    .dataframe thead th {\n",
       "        text-align: right;\n",
       "    }\n",
       "</style>\n",
       "<table border=\"1\" class=\"dataframe\">\n",
       "  <thead>\n",
       "    <tr style=\"text-align: right;\">\n",
       "      <th></th>\n",
       "      <th>Temperature (K)</th>\n",
       "      <th>Luminosity (L/Lo)</th>\n",
       "      <th>Radius (R/Ro)</th>\n",
       "      <th>Absolute magnitude (Mv)</th>\n",
       "      <th>Star type</th>\n",
       "      <th>Star category</th>\n",
       "      <th>Star color</th>\n",
       "      <th>Spectral Class</th>\n",
       "    </tr>\n",
       "  </thead>\n",
       "  <tbody>\n",
       "    <tr>\n",
       "      <th>0</th>\n",
       "      <td>3068</td>\n",
       "      <td>0.002400</td>\n",
       "      <td>0.1700</td>\n",
       "      <td>16.12</td>\n",
       "      <td>0</td>\n",
       "      <td>Brown Dwarf</td>\n",
       "      <td>Red</td>\n",
       "      <td>M</td>\n",
       "    </tr>\n",
       "    <tr>\n",
       "      <th>1</th>\n",
       "      <td>3042</td>\n",
       "      <td>0.000500</td>\n",
       "      <td>0.1542</td>\n",
       "      <td>16.60</td>\n",
       "      <td>0</td>\n",
       "      <td>Brown Dwarf</td>\n",
       "      <td>Red</td>\n",
       "      <td>M</td>\n",
       "    </tr>\n",
       "    <tr>\n",
       "      <th>2</th>\n",
       "      <td>2600</td>\n",
       "      <td>0.000300</td>\n",
       "      <td>0.1020</td>\n",
       "      <td>18.70</td>\n",
       "      <td>0</td>\n",
       "      <td>Brown Dwarf</td>\n",
       "      <td>Red</td>\n",
       "      <td>M</td>\n",
       "    </tr>\n",
       "    <tr>\n",
       "      <th>3</th>\n",
       "      <td>2800</td>\n",
       "      <td>0.000200</td>\n",
       "      <td>0.1600</td>\n",
       "      <td>16.65</td>\n",
       "      <td>0</td>\n",
       "      <td>Brown Dwarf</td>\n",
       "      <td>Red</td>\n",
       "      <td>M</td>\n",
       "    </tr>\n",
       "    <tr>\n",
       "      <th>4</th>\n",
       "      <td>1939</td>\n",
       "      <td>0.000138</td>\n",
       "      <td>0.1030</td>\n",
       "      <td>20.06</td>\n",
       "      <td>0</td>\n",
       "      <td>Brown Dwarf</td>\n",
       "      <td>Red</td>\n",
       "      <td>M</td>\n",
       "    </tr>\n",
       "    <tr>\n",
       "      <th>...</th>\n",
       "      <td>...</td>\n",
       "      <td>...</td>\n",
       "      <td>...</td>\n",
       "      <td>...</td>\n",
       "      <td>...</td>\n",
       "      <td>...</td>\n",
       "      <td>...</td>\n",
       "      <td>...</td>\n",
       "    </tr>\n",
       "    <tr>\n",
       "      <th>235</th>\n",
       "      <td>38940</td>\n",
       "      <td>374830.000000</td>\n",
       "      <td>1356.0000</td>\n",
       "      <td>-9.93</td>\n",
       "      <td>5</td>\n",
       "      <td>Hypergiant</td>\n",
       "      <td>Blue</td>\n",
       "      <td>O</td>\n",
       "    </tr>\n",
       "    <tr>\n",
       "      <th>236</th>\n",
       "      <td>30839</td>\n",
       "      <td>834042.000000</td>\n",
       "      <td>1194.0000</td>\n",
       "      <td>-10.63</td>\n",
       "      <td>5</td>\n",
       "      <td>Hypergiant</td>\n",
       "      <td>Blue</td>\n",
       "      <td>O</td>\n",
       "    </tr>\n",
       "    <tr>\n",
       "      <th>237</th>\n",
       "      <td>8829</td>\n",
       "      <td>537493.000000</td>\n",
       "      <td>1423.0000</td>\n",
       "      <td>-10.73</td>\n",
       "      <td>5</td>\n",
       "      <td>Hypergiant</td>\n",
       "      <td>White</td>\n",
       "      <td>A</td>\n",
       "    </tr>\n",
       "    <tr>\n",
       "      <th>238</th>\n",
       "      <td>9235</td>\n",
       "      <td>404940.000000</td>\n",
       "      <td>1112.0000</td>\n",
       "      <td>-11.23</td>\n",
       "      <td>5</td>\n",
       "      <td>Hypergiant</td>\n",
       "      <td>White</td>\n",
       "      <td>A</td>\n",
       "    </tr>\n",
       "    <tr>\n",
       "      <th>239</th>\n",
       "      <td>37882</td>\n",
       "      <td>294903.000000</td>\n",
       "      <td>1783.0000</td>\n",
       "      <td>-7.80</td>\n",
       "      <td>5</td>\n",
       "      <td>Hypergiant</td>\n",
       "      <td>Blue</td>\n",
       "      <td>O</td>\n",
       "    </tr>\n",
       "  </tbody>\n",
       "</table>\n",
       "<p>228 rows × 8 columns</p>\n",
       "</div>"
      ],
      "text/plain": [
       "     Temperature (K)  Luminosity (L/Lo)  Radius (R/Ro)  \\\n",
       "0               3068           0.002400         0.1700   \n",
       "1               3042           0.000500         0.1542   \n",
       "2               2600           0.000300         0.1020   \n",
       "3               2800           0.000200         0.1600   \n",
       "4               1939           0.000138         0.1030   \n",
       "..               ...                ...            ...   \n",
       "235            38940      374830.000000      1356.0000   \n",
       "236            30839      834042.000000      1194.0000   \n",
       "237             8829      537493.000000      1423.0000   \n",
       "238             9235      404940.000000      1112.0000   \n",
       "239            37882      294903.000000      1783.0000   \n",
       "\n",
       "     Absolute magnitude (Mv)  Star type Star category Star color  \\\n",
       "0                      16.12          0   Brown Dwarf        Red   \n",
       "1                      16.60          0   Brown Dwarf        Red   \n",
       "2                      18.70          0   Brown Dwarf        Red   \n",
       "3                      16.65          0   Brown Dwarf        Red   \n",
       "4                      20.06          0   Brown Dwarf        Red   \n",
       "..                       ...        ...           ...        ...   \n",
       "235                    -9.93          5    Hypergiant       Blue   \n",
       "236                   -10.63          5    Hypergiant       Blue   \n",
       "237                   -10.73          5    Hypergiant      White   \n",
       "238                   -11.23          5    Hypergiant      White   \n",
       "239                    -7.80          5    Hypergiant       Blue   \n",
       "\n",
       "    Spectral Class  \n",
       "0                M  \n",
       "1                M  \n",
       "2                M  \n",
       "3                M  \n",
       "4                M  \n",
       "..             ...  \n",
       "235              O  \n",
       "236              O  \n",
       "237              A  \n",
       "238              A  \n",
       "239              O  \n",
       "\n",
       "[228 rows x 8 columns]"
      ]
     },
     "execution_count": 16,
     "metadata": {},
     "output_type": "execute_result"
    }
   ],
   "source": [
    "star_collection.drop_duplicates(subset=\"Temperature (K)\")"
   ]
  }
 ],
 "metadata": {
  "kernelspec": {
   "display_name": "py313",
   "language": "python",
   "name": "python3"
  },
  "language_info": {
   "codemirror_mode": {
    "name": "ipython",
    "version": 3
   },
   "file_extension": ".py",
   "mimetype": "text/x-python",
   "name": "python",
   "nbconvert_exporter": "python",
   "pygments_lexer": "ipython3",
   "version": "3.13.1"
  }
 },
 "nbformat": 4,
 "nbformat_minor": 2
}
