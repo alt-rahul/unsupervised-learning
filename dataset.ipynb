{
 "cells": [
  {
   "cell_type": "code",
   "execution_count": 2,
   "metadata": {},
   "outputs": [
    {
     "name": "stdout",
     "output_type": "stream",
     "text": [
      "Collecting pandas\n",
      "  Downloading pandas-2.2.3-cp313-cp313-win_amd64.whl.metadata (19 kB)\n",
      "Requirement already satisfied: numpy>=1.26.0 in e:\\anaconda\\envs\\py313\\lib\\site-packages (from pandas) (2.2.0)\n",
      "Requirement already satisfied: python-dateutil>=2.8.2 in e:\\anaconda\\envs\\py313\\lib\\site-packages (from pandas) (2.9.0.post0)\n",
      "Collecting pytz>=2020.1 (from pandas)\n",
      "  Using cached pytz-2024.2-py2.py3-none-any.whl.metadata (22 kB)\n",
      "Collecting tzdata>=2022.7 (from pandas)\n",
      "  Using cached tzdata-2024.2-py2.py3-none-any.whl.metadata (1.4 kB)\n",
      "Requirement already satisfied: six>=1.5 in e:\\anaconda\\envs\\py313\\lib\\site-packages (from python-dateutil>=2.8.2->pandas) (1.17.0)\n",
      "Downloading pandas-2.2.3-cp313-cp313-win_amd64.whl (11.5 MB)\n",
      "   ---------------------------------------- 0.0/11.5 MB ? eta -:--:--\n",
      "   -------------------- ------------------- 5.8/11.5 MB 35.1 MB/s eta 0:00:01\n",
      "   ----------------------------------- ---- 10.2/11.5 MB 27.3 MB/s eta 0:00:01\n",
      "   ---------------------------------------- 11.5/11.5 MB 26.1 MB/s eta 0:00:00\n",
      "Using cached pytz-2024.2-py2.py3-none-any.whl (508 kB)\n",
      "Using cached tzdata-2024.2-py2.py3-none-any.whl (346 kB)\n",
      "Installing collected packages: pytz, tzdata, pandas\n",
      "Successfully installed pandas-2.2.3 pytz-2024.2 tzdata-2024.2\n"
     ]
    }
   ],
   "source": [
    "!pip install pandas"
   ]
  },
  {
   "cell_type": "code",
   "execution_count": 3,
   "metadata": {},
   "outputs": [],
   "source": [
    "import numpy as np\n",
    "import pandas as pd"
   ]
  },
  {
   "cell_type": "code",
   "execution_count": 4,
   "metadata": {},
   "outputs": [],
   "source": [
    "star_collection = pd.read_csv('https://github.com/YBIFoundation/Dataset/raw/main/Stars.csv')"
   ]
  },
  {
   "cell_type": "code",
   "execution_count": 5,
   "metadata": {},
   "outputs": [
    {
     "name": "stdout",
     "output_type": "stream",
     "text": [
      "       Temperature (K)  Luminosity (L/Lo)  Radius (R/Ro)  \\\n",
      "count       240.000000         240.000000     240.000000   \n",
      "mean      10497.462500      107188.361635     237.157781   \n",
      "std        9552.425037      179432.244940     517.155763   \n",
      "min        1939.000000           0.000080       0.008400   \n",
      "25%        3344.250000           0.000865       0.102750   \n",
      "50%        5776.000000           0.070500       0.762500   \n",
      "75%       15055.500000      198050.000000      42.750000   \n",
      "max       40000.000000      849420.000000    1948.500000   \n",
      "\n",
      "       Absolute magnitude (Mv)   Star type  \n",
      "count               240.000000  240.000000  \n",
      "mean                  4.382396    2.500000  \n",
      "std                  10.532512    1.711394  \n",
      "min                 -11.920000    0.000000  \n",
      "25%                  -6.232500    1.000000  \n",
      "50%                   8.313000    2.500000  \n",
      "75%                  13.697500    4.000000  \n",
      "max                  20.060000    5.000000  \n"
     ]
    }
   ],
   "source": [
    "print(star_collection.describe())"
   ]
  },
  {
   "cell_type": "code",
   "execution_count": null,
   "metadata": {},
   "outputs": [],
   "source": []
  }
 ],
 "metadata": {
  "kernelspec": {
   "display_name": "py313",
   "language": "python",
   "name": "python3"
  },
  "language_info": {
   "codemirror_mode": {
    "name": "ipython",
    "version": 3
   },
   "file_extension": ".py",
   "mimetype": "text/x-python",
   "name": "python",
   "nbconvert_exporter": "python",
   "pygments_lexer": "ipython3",
   "version": "3.13.1"
  }
 },
 "nbformat": 4,
 "nbformat_minor": 2
}
